{
 "cells": [
  {
   "cell_type": "markdown",
   "id": "122dc86a-9c36-427c-9a60-21420a4c7b24",
   "metadata": {},
   "source": [
    "# Plantas solares "
   ]
  },
  {
   "cell_type": "markdown",
   "id": "cd9ee6a1-c22f-4838-abb3-2bc57fe026f7",
   "metadata": {},
   "source": [
    "# Tabla de contenido\n",
    "1. [Introducción ](#Introducción)\n",
    "2. [Objetivo Específico](#Objetivo-Específico)\n",
    "3. [Etapas del Análisis del proyecto](#Etapas-del-Análisis-del-proyecto)\n",
    "4. [Preprocesamiento de datos](#Preprocesamiento-de-datos)\n",
    "5. [Análisis Exploratorio de Datos (EDA)](#Análisis-Exploratorio-de-Datos-(EDA))\n",
    "6. [Conclusiones y Recomendaciones](#Conclusiones-y-Recomendaciones)"
   ]
  },
  {
   "cell_type": "markdown",
   "id": "4ad393b7-5f1d-4836-949f-4d6ec40fac67",
   "metadata": {},
   "source": [
    "# Introducción"
   ]
  },
  {
   "cell_type": "markdown",
   "id": "38a3e766-e21b-4683-b2d1-eec7ff56e167",
   "metadata": {},
   "source": [
    "El crecimiento de las energías renovables ha convertido a la energía solar en una de las principales fuentes de generación sostenible. Sin embargo, la eficiencia de los paneles solares está influenciada por múltiples factores ambientales, como la temperatura, la radiación solar y las condiciones climáticas. Este análisis busca explorar y procesar datos de generación de energía para identificar patrones clave, analizar la correlación con variables ambientales y proponer estrategias para mejorar la predicción del rendimiento de los paneles solares."
   ]
  },
  {
   "cell_type": "markdown",
   "id": "503c23dd-3c4c-4b36-a73d-001fdf0a1b51",
   "metadata": {},
   "source": [
    "# Objetivo Específico"
   ]
  },
  {
   "cell_type": "markdown",
   "id": "9be0454d-2428-41df-9f40-18aaf59ef014",
   "metadata": {},
   "source": [
    "Integrar y analizar datos de generación de energía solar para identificar patrones y factores ambientales que influyen en su rendimiento, facilitando así la toma de decisiones para mejorar la eficiencia del sistema."
   ]
  },
  {
   "cell_type": "markdown",
   "id": "ad529c6d-df67-40fe-85c7-516eba4d6c3c",
   "metadata": {},
   "source": [
    "# Etapas del Análisis del proyecto"
   ]
  },
  {
   "cell_type": "markdown",
   "id": "fe404aa2-d014-40bf-81cd-1001001f473e",
   "metadata": {},
   "source": [
    "**1. Preprocesamiento de Datos**\n",
    "   \n",
    "Conversión del formato de fecha y hora.\n",
    "\n",
    "Manejo de valores nulos y eliminación de duplicados.\n",
    "\n",
    "Integración de los cuatro conjuntos de datos.\n",
    "\n",
    "Análisis descriptivo de las variables clave.\n",
    "\n",
    "**2. Análisis Exploratorio de Datos (EDA)**\n",
    "\n",
    "Visualización de tendencias y patrones en la generación de energía.\n",
    "\n",
    "Análisis de correlación entre variables ambientales y rendimiento de los paneles solares.\n",
    "\n",
    "Identificación de posibles anomalías en la generación de energía.\n",
    "\n",
    "**3. Conclusiones y Recomendaciones**\n",
    "\n",
    "Resumen de hallazgos clave.\n",
    "\n",
    "Recomendaciones para mejorar la predicción de generación de energía.\n"
   ]
  },
  {
   "cell_type": "markdown",
   "id": "888842ce-ff8f-435d-8e4d-713b0341b3e0",
   "metadata": {},
   "source": [
    "**Inicialización**"
   ]
  },
  {
   "cell_type": "code",
   "execution_count": 1,
   "id": "a763b09a-e557-4d91-a1b2-69161f90763e",
   "metadata": {},
   "outputs": [],
   "source": [
    "import pandas as pd\n",
    "import numpy as np\n",
    "import matplotlib.pyplot as plt\n",
    "import seaborn as sns"
   ]
  },
  {
   "cell_type": "markdown",
   "id": "56847dfe-54d9-48f8-b71d-13fb7ba22d98",
   "metadata": {},
   "source": [
    "**Cargar los datos**"
   ]
  },
  {
   "cell_type": "code",
   "execution_count": 2,
   "id": "03f96fde-cbab-47c9-8ad6-f64bc6137618",
   "metadata": {},
   "outputs": [],
   "source": [
    "P1_generation = pd.read_csv('Plant_1_Generation_Data.csv')"
   ]
  },
  {
   "cell_type": "code",
   "execution_count": 3,
   "id": "f8a0b2fd-9637-47a6-bcdc-3eba413c8847",
   "metadata": {},
   "outputs": [],
   "source": [
    "P1_sensor = pd.read_csv('Plant_1_Weather_Sensor_Data.csv')"
   ]
  },
  {
   "cell_type": "code",
   "execution_count": 4,
   "id": "96d14715-adcb-4a2a-a8c2-c3237caa7e4f",
   "metadata": {},
   "outputs": [],
   "source": [
    "P2_generation = pd.read_csv('Plant_2_Generation_Data.csv')"
   ]
  },
  {
   "cell_type": "code",
   "execution_count": 5,
   "id": "aa90b931-d192-4b7a-b287-6f63c1838ec7",
   "metadata": {},
   "outputs": [],
   "source": [
    "P2_sensor = pd.read_csv('Plant_2_Weather_Sensor_Data.csv')"
   ]
  },
  {
   "cell_type": "markdown",
   "id": "7490854b-38b1-4b51-a12b-fc6b35b1598c",
   "metadata": {},
   "source": [
    "# Preprocesamiento de datos "
   ]
  },
  {
   "cell_type": "code",
   "execution_count": 6,
   "id": "df78871f-7099-4bb1-9e21-dad1c2f47e49",
   "metadata": {},
   "outputs": [
    {
     "name": "stdout",
     "output_type": "stream",
     "text": [
      "<class 'pandas.core.frame.DataFrame'>\n",
      "RangeIndex: 68778 entries, 0 to 68777\n",
      "Data columns (total 7 columns):\n",
      " #   Column       Non-Null Count  Dtype  \n",
      "---  ------       --------------  -----  \n",
      " 0   DATE_TIME    68778 non-null  object \n",
      " 1   PLANT_ID     68778 non-null  int64  \n",
      " 2   SOURCE_KEY   68778 non-null  object \n",
      " 3   DC_POWER     68778 non-null  float64\n",
      " 4   AC_POWER     68778 non-null  float64\n",
      " 5   DAILY_YIELD  68778 non-null  float64\n",
      " 6   TOTAL_YIELD  68778 non-null  float64\n",
      "dtypes: float64(4), int64(1), object(2)\n",
      "memory usage: 3.7+ MB\n"
     ]
    }
   ],
   "source": [
    "P1_generation.info()"
   ]
  },
  {
   "cell_type": "code",
   "execution_count": 7,
   "id": "a4821759-2bc0-4dbc-8bda-35144d24d89e",
   "metadata": {},
   "outputs": [
    {
     "data": {
      "text/html": [
       "<div>\n",
       "<style scoped>\n",
       "    .dataframe tbody tr th:only-of-type {\n",
       "        vertical-align: middle;\n",
       "    }\n",
       "\n",
       "    .dataframe tbody tr th {\n",
       "        vertical-align: top;\n",
       "    }\n",
       "\n",
       "    .dataframe thead th {\n",
       "        text-align: right;\n",
       "    }\n",
       "</style>\n",
       "<table border=\"1\" class=\"dataframe\">\n",
       "  <thead>\n",
       "    <tr style=\"text-align: right;\">\n",
       "      <th></th>\n",
       "      <th>DATE_TIME</th>\n",
       "      <th>PLANT_ID</th>\n",
       "      <th>SOURCE_KEY</th>\n",
       "      <th>DC_POWER</th>\n",
       "      <th>AC_POWER</th>\n",
       "      <th>DAILY_YIELD</th>\n",
       "      <th>TOTAL_YIELD</th>\n",
       "    </tr>\n",
       "  </thead>\n",
       "  <tbody>\n",
       "    <tr>\n",
       "      <th>0</th>\n",
       "      <td>15/05/2020 00:00</td>\n",
       "      <td>4135001</td>\n",
       "      <td>1BY6WEcLGh8j5v7</td>\n",
       "      <td>0.0</td>\n",
       "      <td>0.0</td>\n",
       "      <td>0.0</td>\n",
       "      <td>6259559.0</td>\n",
       "    </tr>\n",
       "    <tr>\n",
       "      <th>1</th>\n",
       "      <td>15/05/2020 00:00</td>\n",
       "      <td>4135001</td>\n",
       "      <td>1IF53ai7Xc0U56Y</td>\n",
       "      <td>0.0</td>\n",
       "      <td>0.0</td>\n",
       "      <td>0.0</td>\n",
       "      <td>6183645.0</td>\n",
       "    </tr>\n",
       "    <tr>\n",
       "      <th>2</th>\n",
       "      <td>15/05/2020 00:00</td>\n",
       "      <td>4135001</td>\n",
       "      <td>3PZuoBAID5Wc2HD</td>\n",
       "      <td>0.0</td>\n",
       "      <td>0.0</td>\n",
       "      <td>0.0</td>\n",
       "      <td>6987759.0</td>\n",
       "    </tr>\n",
       "    <tr>\n",
       "      <th>3</th>\n",
       "      <td>15/05/2020 00:00</td>\n",
       "      <td>4135001</td>\n",
       "      <td>7JYdWkrLSPkdwr4</td>\n",
       "      <td>0.0</td>\n",
       "      <td>0.0</td>\n",
       "      <td>0.0</td>\n",
       "      <td>7602960.0</td>\n",
       "    </tr>\n",
       "    <tr>\n",
       "      <th>4</th>\n",
       "      <td>15/05/2020 00:00</td>\n",
       "      <td>4135001</td>\n",
       "      <td>McdE0feGgRqW7Ca</td>\n",
       "      <td>0.0</td>\n",
       "      <td>0.0</td>\n",
       "      <td>0.0</td>\n",
       "      <td>7158964.0</td>\n",
       "    </tr>\n",
       "  </tbody>\n",
       "</table>\n",
       "</div>"
      ],
      "text/plain": [
       "          DATE_TIME  PLANT_ID       SOURCE_KEY  DC_POWER  AC_POWER  \\\n",
       "0  15/05/2020 00:00   4135001  1BY6WEcLGh8j5v7       0.0       0.0   \n",
       "1  15/05/2020 00:00   4135001  1IF53ai7Xc0U56Y       0.0       0.0   \n",
       "2  15/05/2020 00:00   4135001  3PZuoBAID5Wc2HD       0.0       0.0   \n",
       "3  15/05/2020 00:00   4135001  7JYdWkrLSPkdwr4       0.0       0.0   \n",
       "4  15/05/2020 00:00   4135001  McdE0feGgRqW7Ca       0.0       0.0   \n",
       "\n",
       "   DAILY_YIELD  TOTAL_YIELD  \n",
       "0          0.0    6259559.0  \n",
       "1          0.0    6183645.0  \n",
       "2          0.0    6987759.0  \n",
       "3          0.0    7602960.0  \n",
       "4          0.0    7158964.0  "
      ]
     },
     "execution_count": 7,
     "metadata": {},
     "output_type": "execute_result"
    }
   ],
   "source": [
    "P1_generation.head()"
   ]
  },
  {
   "cell_type": "code",
   "execution_count": 8,
   "id": "6b66421d-db9f-49be-af0a-fae60d30e83f",
   "metadata": {},
   "outputs": [],
   "source": [
    "P1_generation['DATE_TIME'] = pd.to_datetime(P1_generation['DATE_TIME'], format=\"%d/%m/%Y %H:%M\")"
   ]
  },
  {
   "cell_type": "code",
   "execution_count": 9,
   "id": "de98ed44-8c7a-46a4-b65f-e158d4ab45cf",
   "metadata": {},
   "outputs": [
    {
     "name": "stdout",
     "output_type": "stream",
     "text": [
      "<class 'pandas.core.frame.DataFrame'>\n",
      "RangeIndex: 68778 entries, 0 to 68777\n",
      "Data columns (total 7 columns):\n",
      " #   Column       Non-Null Count  Dtype         \n",
      "---  ------       --------------  -----         \n",
      " 0   DATE_TIME    68778 non-null  datetime64[ns]\n",
      " 1   PLANT_ID     68778 non-null  int64         \n",
      " 2   SOURCE_KEY   68778 non-null  object        \n",
      " 3   DC_POWER     68778 non-null  float64       \n",
      " 4   AC_POWER     68778 non-null  float64       \n",
      " 5   DAILY_YIELD  68778 non-null  float64       \n",
      " 6   TOTAL_YIELD  68778 non-null  float64       \n",
      "dtypes: datetime64[ns](1), float64(4), int64(1), object(1)\n",
      "memory usage: 3.7+ MB\n"
     ]
    }
   ],
   "source": [
    "P1_generation.info()"
   ]
  },
  {
   "cell_type": "code",
   "execution_count": 10,
   "id": "10192aed-fb02-4da6-be1d-53b0573eeda8",
   "metadata": {},
   "outputs": [
    {
     "data": {
      "text/html": [
       "<div>\n",
       "<style scoped>\n",
       "    .dataframe tbody tr th:only-of-type {\n",
       "        vertical-align: middle;\n",
       "    }\n",
       "\n",
       "    .dataframe tbody tr th {\n",
       "        vertical-align: top;\n",
       "    }\n",
       "\n",
       "    .dataframe thead th {\n",
       "        text-align: right;\n",
       "    }\n",
       "</style>\n",
       "<table border=\"1\" class=\"dataframe\">\n",
       "  <thead>\n",
       "    <tr style=\"text-align: right;\">\n",
       "      <th></th>\n",
       "      <th>DATE_TIME</th>\n",
       "      <th>PLANT_ID</th>\n",
       "      <th>SOURCE_KEY</th>\n",
       "      <th>DC_POWER</th>\n",
       "      <th>AC_POWER</th>\n",
       "      <th>DAILY_YIELD</th>\n",
       "      <th>TOTAL_YIELD</th>\n",
       "    </tr>\n",
       "  </thead>\n",
       "  <tbody>\n",
       "    <tr>\n",
       "      <th>0</th>\n",
       "      <td>2020-05-15</td>\n",
       "      <td>4135001</td>\n",
       "      <td>1BY6WEcLGh8j5v7</td>\n",
       "      <td>0.0</td>\n",
       "      <td>0.0</td>\n",
       "      <td>0.0</td>\n",
       "      <td>6259559.0</td>\n",
       "    </tr>\n",
       "    <tr>\n",
       "      <th>1</th>\n",
       "      <td>2020-05-15</td>\n",
       "      <td>4135001</td>\n",
       "      <td>1IF53ai7Xc0U56Y</td>\n",
       "      <td>0.0</td>\n",
       "      <td>0.0</td>\n",
       "      <td>0.0</td>\n",
       "      <td>6183645.0</td>\n",
       "    </tr>\n",
       "    <tr>\n",
       "      <th>2</th>\n",
       "      <td>2020-05-15</td>\n",
       "      <td>4135001</td>\n",
       "      <td>3PZuoBAID5Wc2HD</td>\n",
       "      <td>0.0</td>\n",
       "      <td>0.0</td>\n",
       "      <td>0.0</td>\n",
       "      <td>6987759.0</td>\n",
       "    </tr>\n",
       "    <tr>\n",
       "      <th>3</th>\n",
       "      <td>2020-05-15</td>\n",
       "      <td>4135001</td>\n",
       "      <td>7JYdWkrLSPkdwr4</td>\n",
       "      <td>0.0</td>\n",
       "      <td>0.0</td>\n",
       "      <td>0.0</td>\n",
       "      <td>7602960.0</td>\n",
       "    </tr>\n",
       "    <tr>\n",
       "      <th>4</th>\n",
       "      <td>2020-05-15</td>\n",
       "      <td>4135001</td>\n",
       "      <td>McdE0feGgRqW7Ca</td>\n",
       "      <td>0.0</td>\n",
       "      <td>0.0</td>\n",
       "      <td>0.0</td>\n",
       "      <td>7158964.0</td>\n",
       "    </tr>\n",
       "  </tbody>\n",
       "</table>\n",
       "</div>"
      ],
      "text/plain": [
       "   DATE_TIME  PLANT_ID       SOURCE_KEY  DC_POWER  AC_POWER  DAILY_YIELD  \\\n",
       "0 2020-05-15   4135001  1BY6WEcLGh8j5v7       0.0       0.0          0.0   \n",
       "1 2020-05-15   4135001  1IF53ai7Xc0U56Y       0.0       0.0          0.0   \n",
       "2 2020-05-15   4135001  3PZuoBAID5Wc2HD       0.0       0.0          0.0   \n",
       "3 2020-05-15   4135001  7JYdWkrLSPkdwr4       0.0       0.0          0.0   \n",
       "4 2020-05-15   4135001  McdE0feGgRqW7Ca       0.0       0.0          0.0   \n",
       "\n",
       "   TOTAL_YIELD  \n",
       "0    6259559.0  \n",
       "1    6183645.0  \n",
       "2    6987759.0  \n",
       "3    7602960.0  \n",
       "4    7158964.0  "
      ]
     },
     "execution_count": 10,
     "metadata": {},
     "output_type": "execute_result"
    }
   ],
   "source": [
    "P1_generation.head()"
   ]
  },
  {
   "cell_type": "code",
   "execution_count": 11,
   "id": "2e714d06-0bfe-4b45-b8e1-ec66adb72339",
   "metadata": {},
   "outputs": [
    {
     "data": {
      "text/plain": [
       "0"
      ]
     },
     "execution_count": 11,
     "metadata": {},
     "output_type": "execute_result"
    }
   ],
   "source": [
    "P1_generation.duplicated().sum()"
   ]
  },
  {
   "cell_type": "code",
   "execution_count": 12,
   "id": "790fea8a-13cf-4e8f-abb6-026362dbb2a2",
   "metadata": {},
   "outputs": [
    {
     "name": "stdout",
     "output_type": "stream",
     "text": [
      "<class 'pandas.core.frame.DataFrame'>\n",
      "RangeIndex: 3182 entries, 0 to 3181\n",
      "Data columns (total 6 columns):\n",
      " #   Column               Non-Null Count  Dtype  \n",
      "---  ------               --------------  -----  \n",
      " 0   DATE_TIME            3182 non-null   object \n",
      " 1   PLANT_ID             3182 non-null   int64  \n",
      " 2   SOURCE_KEY           3182 non-null   object \n",
      " 3   AMBIENT_TEMPERATURE  3182 non-null   float64\n",
      " 4   MODULE_TEMPERATURE   3182 non-null   float64\n",
      " 5   IRRADIATION          3182 non-null   float64\n",
      "dtypes: float64(3), int64(1), object(2)\n",
      "memory usage: 149.3+ KB\n"
     ]
    }
   ],
   "source": [
    "P1_sensor.info()"
   ]
  },
  {
   "cell_type": "code",
   "execution_count": 13,
   "id": "d4acc550-b399-463a-a9de-c8f74470c4f0",
   "metadata": {},
   "outputs": [
    {
     "data": {
      "text/html": [
       "<div>\n",
       "<style scoped>\n",
       "    .dataframe tbody tr th:only-of-type {\n",
       "        vertical-align: middle;\n",
       "    }\n",
       "\n",
       "    .dataframe tbody tr th {\n",
       "        vertical-align: top;\n",
       "    }\n",
       "\n",
       "    .dataframe thead th {\n",
       "        text-align: right;\n",
       "    }\n",
       "</style>\n",
       "<table border=\"1\" class=\"dataframe\">\n",
       "  <thead>\n",
       "    <tr style=\"text-align: right;\">\n",
       "      <th></th>\n",
       "      <th>DATE_TIME</th>\n",
       "      <th>PLANT_ID</th>\n",
       "      <th>SOURCE_KEY</th>\n",
       "      <th>AMBIENT_TEMPERATURE</th>\n",
       "      <th>MODULE_TEMPERATURE</th>\n",
       "      <th>IRRADIATION</th>\n",
       "    </tr>\n",
       "  </thead>\n",
       "  <tbody>\n",
       "    <tr>\n",
       "      <th>0</th>\n",
       "      <td>2020-05-15 00:00:00</td>\n",
       "      <td>4135001</td>\n",
       "      <td>HmiyD2TTLFNqkNe</td>\n",
       "      <td>25.184316</td>\n",
       "      <td>22.857507</td>\n",
       "      <td>0.0</td>\n",
       "    </tr>\n",
       "    <tr>\n",
       "      <th>1</th>\n",
       "      <td>2020-05-15 00:15:00</td>\n",
       "      <td>4135001</td>\n",
       "      <td>HmiyD2TTLFNqkNe</td>\n",
       "      <td>25.084589</td>\n",
       "      <td>22.761668</td>\n",
       "      <td>0.0</td>\n",
       "    </tr>\n",
       "    <tr>\n",
       "      <th>2</th>\n",
       "      <td>2020-05-15 00:30:00</td>\n",
       "      <td>4135001</td>\n",
       "      <td>HmiyD2TTLFNqkNe</td>\n",
       "      <td>24.935753</td>\n",
       "      <td>22.592306</td>\n",
       "      <td>0.0</td>\n",
       "    </tr>\n",
       "    <tr>\n",
       "      <th>3</th>\n",
       "      <td>2020-05-15 00:45:00</td>\n",
       "      <td>4135001</td>\n",
       "      <td>HmiyD2TTLFNqkNe</td>\n",
       "      <td>24.846130</td>\n",
       "      <td>22.360852</td>\n",
       "      <td>0.0</td>\n",
       "    </tr>\n",
       "    <tr>\n",
       "      <th>4</th>\n",
       "      <td>2020-05-15 01:00:00</td>\n",
       "      <td>4135001</td>\n",
       "      <td>HmiyD2TTLFNqkNe</td>\n",
       "      <td>24.621525</td>\n",
       "      <td>22.165423</td>\n",
       "      <td>0.0</td>\n",
       "    </tr>\n",
       "  </tbody>\n",
       "</table>\n",
       "</div>"
      ],
      "text/plain": [
       "             DATE_TIME  PLANT_ID       SOURCE_KEY  AMBIENT_TEMPERATURE  \\\n",
       "0  2020-05-15 00:00:00   4135001  HmiyD2TTLFNqkNe            25.184316   \n",
       "1  2020-05-15 00:15:00   4135001  HmiyD2TTLFNqkNe            25.084589   \n",
       "2  2020-05-15 00:30:00   4135001  HmiyD2TTLFNqkNe            24.935753   \n",
       "3  2020-05-15 00:45:00   4135001  HmiyD2TTLFNqkNe            24.846130   \n",
       "4  2020-05-15 01:00:00   4135001  HmiyD2TTLFNqkNe            24.621525   \n",
       "\n",
       "   MODULE_TEMPERATURE  IRRADIATION  \n",
       "0           22.857507          0.0  \n",
       "1           22.761668          0.0  \n",
       "2           22.592306          0.0  \n",
       "3           22.360852          0.0  \n",
       "4           22.165423          0.0  "
      ]
     },
     "execution_count": 13,
     "metadata": {},
     "output_type": "execute_result"
    }
   ],
   "source": [
    "P1_sensor.head()"
   ]
  },
  {
   "cell_type": "code",
   "execution_count": 14,
   "id": "ee7b3cb7-b323-4ac9-af0c-96229016d223",
   "metadata": {},
   "outputs": [],
   "source": [
    "P1_sensor['DATE_TIME'] = pd.to_datetime(P1_sensor['DATE_TIME'], format=\"%Y-%m-%d %H:%M:%S\")"
   ]
  },
  {
   "cell_type": "code",
   "execution_count": 15,
   "id": "913a6c8e-b303-4368-b8b1-16871c096f0c",
   "metadata": {},
   "outputs": [
    {
     "name": "stdout",
     "output_type": "stream",
     "text": [
      "<class 'pandas.core.frame.DataFrame'>\n",
      "RangeIndex: 3182 entries, 0 to 3181\n",
      "Data columns (total 6 columns):\n",
      " #   Column               Non-Null Count  Dtype         \n",
      "---  ------               --------------  -----         \n",
      " 0   DATE_TIME            3182 non-null   datetime64[ns]\n",
      " 1   PLANT_ID             3182 non-null   int64         \n",
      " 2   SOURCE_KEY           3182 non-null   object        \n",
      " 3   AMBIENT_TEMPERATURE  3182 non-null   float64       \n",
      " 4   MODULE_TEMPERATURE   3182 non-null   float64       \n",
      " 5   IRRADIATION          3182 non-null   float64       \n",
      "dtypes: datetime64[ns](1), float64(3), int64(1), object(1)\n",
      "memory usage: 149.3+ KB\n"
     ]
    }
   ],
   "source": [
    "P1_sensor.info()"
   ]
  },
  {
   "cell_type": "code",
   "execution_count": 16,
   "id": "aeb34752-7908-4e28-a75e-e441dee2ef4a",
   "metadata": {},
   "outputs": [
    {
     "data": {
      "text/html": [
       "<div>\n",
       "<style scoped>\n",
       "    .dataframe tbody tr th:only-of-type {\n",
       "        vertical-align: middle;\n",
       "    }\n",
       "\n",
       "    .dataframe tbody tr th {\n",
       "        vertical-align: top;\n",
       "    }\n",
       "\n",
       "    .dataframe thead th {\n",
       "        text-align: right;\n",
       "    }\n",
       "</style>\n",
       "<table border=\"1\" class=\"dataframe\">\n",
       "  <thead>\n",
       "    <tr style=\"text-align: right;\">\n",
       "      <th></th>\n",
       "      <th>DATE_TIME</th>\n",
       "      <th>PLANT_ID</th>\n",
       "      <th>SOURCE_KEY</th>\n",
       "      <th>AMBIENT_TEMPERATURE</th>\n",
       "      <th>MODULE_TEMPERATURE</th>\n",
       "      <th>IRRADIATION</th>\n",
       "    </tr>\n",
       "  </thead>\n",
       "  <tbody>\n",
       "    <tr>\n",
       "      <th>0</th>\n",
       "      <td>2020-05-15 00:00:00</td>\n",
       "      <td>4135001</td>\n",
       "      <td>HmiyD2TTLFNqkNe</td>\n",
       "      <td>25.184316</td>\n",
       "      <td>22.857507</td>\n",
       "      <td>0.0</td>\n",
       "    </tr>\n",
       "    <tr>\n",
       "      <th>1</th>\n",
       "      <td>2020-05-15 00:15:00</td>\n",
       "      <td>4135001</td>\n",
       "      <td>HmiyD2TTLFNqkNe</td>\n",
       "      <td>25.084589</td>\n",
       "      <td>22.761668</td>\n",
       "      <td>0.0</td>\n",
       "    </tr>\n",
       "    <tr>\n",
       "      <th>2</th>\n",
       "      <td>2020-05-15 00:30:00</td>\n",
       "      <td>4135001</td>\n",
       "      <td>HmiyD2TTLFNqkNe</td>\n",
       "      <td>24.935753</td>\n",
       "      <td>22.592306</td>\n",
       "      <td>0.0</td>\n",
       "    </tr>\n",
       "    <tr>\n",
       "      <th>3</th>\n",
       "      <td>2020-05-15 00:45:00</td>\n",
       "      <td>4135001</td>\n",
       "      <td>HmiyD2TTLFNqkNe</td>\n",
       "      <td>24.846130</td>\n",
       "      <td>22.360852</td>\n",
       "      <td>0.0</td>\n",
       "    </tr>\n",
       "    <tr>\n",
       "      <th>4</th>\n",
       "      <td>2020-05-15 01:00:00</td>\n",
       "      <td>4135001</td>\n",
       "      <td>HmiyD2TTLFNqkNe</td>\n",
       "      <td>24.621525</td>\n",
       "      <td>22.165423</td>\n",
       "      <td>0.0</td>\n",
       "    </tr>\n",
       "  </tbody>\n",
       "</table>\n",
       "</div>"
      ],
      "text/plain": [
       "            DATE_TIME  PLANT_ID       SOURCE_KEY  AMBIENT_TEMPERATURE  \\\n",
       "0 2020-05-15 00:00:00   4135001  HmiyD2TTLFNqkNe            25.184316   \n",
       "1 2020-05-15 00:15:00   4135001  HmiyD2TTLFNqkNe            25.084589   \n",
       "2 2020-05-15 00:30:00   4135001  HmiyD2TTLFNqkNe            24.935753   \n",
       "3 2020-05-15 00:45:00   4135001  HmiyD2TTLFNqkNe            24.846130   \n",
       "4 2020-05-15 01:00:00   4135001  HmiyD2TTLFNqkNe            24.621525   \n",
       "\n",
       "   MODULE_TEMPERATURE  IRRADIATION  \n",
       "0           22.857507          0.0  \n",
       "1           22.761668          0.0  \n",
       "2           22.592306          0.0  \n",
       "3           22.360852          0.0  \n",
       "4           22.165423          0.0  "
      ]
     },
     "execution_count": 16,
     "metadata": {},
     "output_type": "execute_result"
    }
   ],
   "source": [
    "P1_sensor.head()"
   ]
  },
  {
   "cell_type": "code",
   "execution_count": 17,
   "id": "79f47c9a-4178-46d9-9359-1d3167817338",
   "metadata": {},
   "outputs": [
    {
     "data": {
      "text/plain": [
       "0"
      ]
     },
     "execution_count": 17,
     "metadata": {},
     "output_type": "execute_result"
    }
   ],
   "source": [
    "P1_sensor.duplicated().sum()"
   ]
  },
  {
   "cell_type": "code",
   "execution_count": 18,
   "id": "4bfcc548-bec1-492c-91e2-8670ca92dff3",
   "metadata": {},
   "outputs": [
    {
     "name": "stdout",
     "output_type": "stream",
     "text": [
      "<class 'pandas.core.frame.DataFrame'>\n",
      "RangeIndex: 67698 entries, 0 to 67697\n",
      "Data columns (total 7 columns):\n",
      " #   Column       Non-Null Count  Dtype  \n",
      "---  ------       --------------  -----  \n",
      " 0   DATE_TIME    67698 non-null  object \n",
      " 1   PLANT_ID     67698 non-null  int64  \n",
      " 2   SOURCE_KEY   67698 non-null  object \n",
      " 3   DC_POWER     67698 non-null  float64\n",
      " 4   AC_POWER     67698 non-null  float64\n",
      " 5   DAILY_YIELD  67698 non-null  float64\n",
      " 6   TOTAL_YIELD  67698 non-null  float64\n",
      "dtypes: float64(4), int64(1), object(2)\n",
      "memory usage: 3.6+ MB\n"
     ]
    }
   ],
   "source": [
    "P2_generation.info()"
   ]
  },
  {
   "cell_type": "code",
   "execution_count": 19,
   "id": "06a53378-d811-4a0d-990d-0d7179f477d5",
   "metadata": {},
   "outputs": [
    {
     "data": {
      "text/html": [
       "<div>\n",
       "<style scoped>\n",
       "    .dataframe tbody tr th:only-of-type {\n",
       "        vertical-align: middle;\n",
       "    }\n",
       "\n",
       "    .dataframe tbody tr th {\n",
       "        vertical-align: top;\n",
       "    }\n",
       "\n",
       "    .dataframe thead th {\n",
       "        text-align: right;\n",
       "    }\n",
       "</style>\n",
       "<table border=\"1\" class=\"dataframe\">\n",
       "  <thead>\n",
       "    <tr style=\"text-align: right;\">\n",
       "      <th></th>\n",
       "      <th>DATE_TIME</th>\n",
       "      <th>PLANT_ID</th>\n",
       "      <th>SOURCE_KEY</th>\n",
       "      <th>DC_POWER</th>\n",
       "      <th>AC_POWER</th>\n",
       "      <th>DAILY_YIELD</th>\n",
       "      <th>TOTAL_YIELD</th>\n",
       "    </tr>\n",
       "  </thead>\n",
       "  <tbody>\n",
       "    <tr>\n",
       "      <th>0</th>\n",
       "      <td>15/05/2020 00:00</td>\n",
       "      <td>4136001</td>\n",
       "      <td>4UPUqMRk7TRMgml</td>\n",
       "      <td>0.0</td>\n",
       "      <td>0.0</td>\n",
       "      <td>9425.000000</td>\n",
       "      <td>2.429011e+06</td>\n",
       "    </tr>\n",
       "    <tr>\n",
       "      <th>1</th>\n",
       "      <td>15/05/2020 00:00</td>\n",
       "      <td>4136001</td>\n",
       "      <td>81aHJ1q11NBPMrL</td>\n",
       "      <td>0.0</td>\n",
       "      <td>0.0</td>\n",
       "      <td>0.000000</td>\n",
       "      <td>1.215279e+09</td>\n",
       "    </tr>\n",
       "    <tr>\n",
       "      <th>2</th>\n",
       "      <td>15/05/2020 00:00</td>\n",
       "      <td>4136001</td>\n",
       "      <td>9kRcWv60rDACzjR</td>\n",
       "      <td>0.0</td>\n",
       "      <td>0.0</td>\n",
       "      <td>3075.333333</td>\n",
       "      <td>2.247720e+09</td>\n",
       "    </tr>\n",
       "    <tr>\n",
       "      <th>3</th>\n",
       "      <td>15/05/2020 00:00</td>\n",
       "      <td>4136001</td>\n",
       "      <td>Et9kgGMDl729KT4</td>\n",
       "      <td>0.0</td>\n",
       "      <td>0.0</td>\n",
       "      <td>269.933333</td>\n",
       "      <td>1.704250e+06</td>\n",
       "    </tr>\n",
       "    <tr>\n",
       "      <th>4</th>\n",
       "      <td>15/05/2020 00:00</td>\n",
       "      <td>4136001</td>\n",
       "      <td>IQ2d7wF4YD8zU1Q</td>\n",
       "      <td>0.0</td>\n",
       "      <td>0.0</td>\n",
       "      <td>3177.000000</td>\n",
       "      <td>1.994153e+07</td>\n",
       "    </tr>\n",
       "  </tbody>\n",
       "</table>\n",
       "</div>"
      ],
      "text/plain": [
       "          DATE_TIME  PLANT_ID       SOURCE_KEY  DC_POWER  AC_POWER  \\\n",
       "0  15/05/2020 00:00   4136001  4UPUqMRk7TRMgml       0.0       0.0   \n",
       "1  15/05/2020 00:00   4136001  81aHJ1q11NBPMrL       0.0       0.0   \n",
       "2  15/05/2020 00:00   4136001  9kRcWv60rDACzjR       0.0       0.0   \n",
       "3  15/05/2020 00:00   4136001  Et9kgGMDl729KT4       0.0       0.0   \n",
       "4  15/05/2020 00:00   4136001  IQ2d7wF4YD8zU1Q       0.0       0.0   \n",
       "\n",
       "   DAILY_YIELD   TOTAL_YIELD  \n",
       "0  9425.000000  2.429011e+06  \n",
       "1     0.000000  1.215279e+09  \n",
       "2  3075.333333  2.247720e+09  \n",
       "3   269.933333  1.704250e+06  \n",
       "4  3177.000000  1.994153e+07  "
      ]
     },
     "execution_count": 19,
     "metadata": {},
     "output_type": "execute_result"
    }
   ],
   "source": [
    "P2_generation.head()"
   ]
  },
  {
   "cell_type": "code",
   "execution_count": 20,
   "id": "72430246-ce5e-430b-9e42-a609ff52d440",
   "metadata": {},
   "outputs": [],
   "source": [
    "P2_generation['DATE_TIME'] = pd.to_datetime(P2_generation['DATE_TIME'], format=\"%d/%m/%Y %H:%M\")"
   ]
  },
  {
   "cell_type": "code",
   "execution_count": 21,
   "id": "1d9d249c-593a-4090-8e52-daf2846ae956",
   "metadata": {},
   "outputs": [
    {
     "name": "stdout",
     "output_type": "stream",
     "text": [
      "<class 'pandas.core.frame.DataFrame'>\n",
      "RangeIndex: 67698 entries, 0 to 67697\n",
      "Data columns (total 7 columns):\n",
      " #   Column       Non-Null Count  Dtype         \n",
      "---  ------       --------------  -----         \n",
      " 0   DATE_TIME    67698 non-null  datetime64[ns]\n",
      " 1   PLANT_ID     67698 non-null  int64         \n",
      " 2   SOURCE_KEY   67698 non-null  object        \n",
      " 3   DC_POWER     67698 non-null  float64       \n",
      " 4   AC_POWER     67698 non-null  float64       \n",
      " 5   DAILY_YIELD  67698 non-null  float64       \n",
      " 6   TOTAL_YIELD  67698 non-null  float64       \n",
      "dtypes: datetime64[ns](1), float64(4), int64(1), object(1)\n",
      "memory usage: 3.6+ MB\n"
     ]
    }
   ],
   "source": [
    "P2_generation.info()"
   ]
  },
  {
   "cell_type": "code",
   "execution_count": 22,
   "id": "eb5a248f-af4a-4f81-b31f-c49ae301dff7",
   "metadata": {},
   "outputs": [
    {
     "data": {
      "text/html": [
       "<div>\n",
       "<style scoped>\n",
       "    .dataframe tbody tr th:only-of-type {\n",
       "        vertical-align: middle;\n",
       "    }\n",
       "\n",
       "    .dataframe tbody tr th {\n",
       "        vertical-align: top;\n",
       "    }\n",
       "\n",
       "    .dataframe thead th {\n",
       "        text-align: right;\n",
       "    }\n",
       "</style>\n",
       "<table border=\"1\" class=\"dataframe\">\n",
       "  <thead>\n",
       "    <tr style=\"text-align: right;\">\n",
       "      <th></th>\n",
       "      <th>DATE_TIME</th>\n",
       "      <th>PLANT_ID</th>\n",
       "      <th>SOURCE_KEY</th>\n",
       "      <th>DC_POWER</th>\n",
       "      <th>AC_POWER</th>\n",
       "      <th>DAILY_YIELD</th>\n",
       "      <th>TOTAL_YIELD</th>\n",
       "    </tr>\n",
       "  </thead>\n",
       "  <tbody>\n",
       "    <tr>\n",
       "      <th>0</th>\n",
       "      <td>2020-05-15</td>\n",
       "      <td>4136001</td>\n",
       "      <td>4UPUqMRk7TRMgml</td>\n",
       "      <td>0.0</td>\n",
       "      <td>0.0</td>\n",
       "      <td>9425.000000</td>\n",
       "      <td>2.429011e+06</td>\n",
       "    </tr>\n",
       "    <tr>\n",
       "      <th>1</th>\n",
       "      <td>2020-05-15</td>\n",
       "      <td>4136001</td>\n",
       "      <td>81aHJ1q11NBPMrL</td>\n",
       "      <td>0.0</td>\n",
       "      <td>0.0</td>\n",
       "      <td>0.000000</td>\n",
       "      <td>1.215279e+09</td>\n",
       "    </tr>\n",
       "    <tr>\n",
       "      <th>2</th>\n",
       "      <td>2020-05-15</td>\n",
       "      <td>4136001</td>\n",
       "      <td>9kRcWv60rDACzjR</td>\n",
       "      <td>0.0</td>\n",
       "      <td>0.0</td>\n",
       "      <td>3075.333333</td>\n",
       "      <td>2.247720e+09</td>\n",
       "    </tr>\n",
       "    <tr>\n",
       "      <th>3</th>\n",
       "      <td>2020-05-15</td>\n",
       "      <td>4136001</td>\n",
       "      <td>Et9kgGMDl729KT4</td>\n",
       "      <td>0.0</td>\n",
       "      <td>0.0</td>\n",
       "      <td>269.933333</td>\n",
       "      <td>1.704250e+06</td>\n",
       "    </tr>\n",
       "    <tr>\n",
       "      <th>4</th>\n",
       "      <td>2020-05-15</td>\n",
       "      <td>4136001</td>\n",
       "      <td>IQ2d7wF4YD8zU1Q</td>\n",
       "      <td>0.0</td>\n",
       "      <td>0.0</td>\n",
       "      <td>3177.000000</td>\n",
       "      <td>1.994153e+07</td>\n",
       "    </tr>\n",
       "  </tbody>\n",
       "</table>\n",
       "</div>"
      ],
      "text/plain": [
       "   DATE_TIME  PLANT_ID       SOURCE_KEY  DC_POWER  AC_POWER  DAILY_YIELD  \\\n",
       "0 2020-05-15   4136001  4UPUqMRk7TRMgml       0.0       0.0  9425.000000   \n",
       "1 2020-05-15   4136001  81aHJ1q11NBPMrL       0.0       0.0     0.000000   \n",
       "2 2020-05-15   4136001  9kRcWv60rDACzjR       0.0       0.0  3075.333333   \n",
       "3 2020-05-15   4136001  Et9kgGMDl729KT4       0.0       0.0   269.933333   \n",
       "4 2020-05-15   4136001  IQ2d7wF4YD8zU1Q       0.0       0.0  3177.000000   \n",
       "\n",
       "    TOTAL_YIELD  \n",
       "0  2.429011e+06  \n",
       "1  1.215279e+09  \n",
       "2  2.247720e+09  \n",
       "3  1.704250e+06  \n",
       "4  1.994153e+07  "
      ]
     },
     "execution_count": 22,
     "metadata": {},
     "output_type": "execute_result"
    }
   ],
   "source": [
    "P2_generation.head()"
   ]
  },
  {
   "cell_type": "code",
   "execution_count": 23,
   "id": "717de843-b9de-4cbd-97ca-7c5e9848d180",
   "metadata": {},
   "outputs": [
    {
     "data": {
      "text/plain": [
       "0"
      ]
     },
     "execution_count": 23,
     "metadata": {},
     "output_type": "execute_result"
    }
   ],
   "source": [
    "P2_generation.duplicated().sum()"
   ]
  },
  {
   "cell_type": "code",
   "execution_count": 24,
   "id": "8e34160d-223b-4795-90ec-4506192d7661",
   "metadata": {},
   "outputs": [
    {
     "name": "stdout",
     "output_type": "stream",
     "text": [
      "<class 'pandas.core.frame.DataFrame'>\n",
      "RangeIndex: 3259 entries, 0 to 3258\n",
      "Data columns (total 6 columns):\n",
      " #   Column               Non-Null Count  Dtype  \n",
      "---  ------               --------------  -----  \n",
      " 0   DATE_TIME            3259 non-null   object \n",
      " 1   PLANT_ID             3259 non-null   int64  \n",
      " 2   SOURCE_KEY           3259 non-null   object \n",
      " 3   AMBIENT_TEMPERATURE  3259 non-null   float64\n",
      " 4   MODULE_TEMPERATURE   3259 non-null   float64\n",
      " 5   IRRADIATION          3259 non-null   float64\n",
      "dtypes: float64(3), int64(1), object(2)\n",
      "memory usage: 152.9+ KB\n"
     ]
    }
   ],
   "source": [
    "P2_sensor.info()"
   ]
  },
  {
   "cell_type": "code",
   "execution_count": 25,
   "id": "e796af46-31ee-4b3c-997f-5e4f1129f162",
   "metadata": {},
   "outputs": [
    {
     "data": {
      "text/html": [
       "<div>\n",
       "<style scoped>\n",
       "    .dataframe tbody tr th:only-of-type {\n",
       "        vertical-align: middle;\n",
       "    }\n",
       "\n",
       "    .dataframe tbody tr th {\n",
       "        vertical-align: top;\n",
       "    }\n",
       "\n",
       "    .dataframe thead th {\n",
       "        text-align: right;\n",
       "    }\n",
       "</style>\n",
       "<table border=\"1\" class=\"dataframe\">\n",
       "  <thead>\n",
       "    <tr style=\"text-align: right;\">\n",
       "      <th></th>\n",
       "      <th>DATE_TIME</th>\n",
       "      <th>PLANT_ID</th>\n",
       "      <th>SOURCE_KEY</th>\n",
       "      <th>AMBIENT_TEMPERATURE</th>\n",
       "      <th>MODULE_TEMPERATURE</th>\n",
       "      <th>IRRADIATION</th>\n",
       "    </tr>\n",
       "  </thead>\n",
       "  <tbody>\n",
       "    <tr>\n",
       "      <th>0</th>\n",
       "      <td>2020-05-15 00:00:00</td>\n",
       "      <td>4136001</td>\n",
       "      <td>iq8k7ZNt4Mwm3w0</td>\n",
       "      <td>27.004764</td>\n",
       "      <td>25.060789</td>\n",
       "      <td>0.0</td>\n",
       "    </tr>\n",
       "    <tr>\n",
       "      <th>1</th>\n",
       "      <td>2020-05-15 00:15:00</td>\n",
       "      <td>4136001</td>\n",
       "      <td>iq8k7ZNt4Mwm3w0</td>\n",
       "      <td>26.880811</td>\n",
       "      <td>24.421869</td>\n",
       "      <td>0.0</td>\n",
       "    </tr>\n",
       "    <tr>\n",
       "      <th>2</th>\n",
       "      <td>2020-05-15 00:30:00</td>\n",
       "      <td>4136001</td>\n",
       "      <td>iq8k7ZNt4Mwm3w0</td>\n",
       "      <td>26.682055</td>\n",
       "      <td>24.427290</td>\n",
       "      <td>0.0</td>\n",
       "    </tr>\n",
       "    <tr>\n",
       "      <th>3</th>\n",
       "      <td>2020-05-15 00:45:00</td>\n",
       "      <td>4136001</td>\n",
       "      <td>iq8k7ZNt4Mwm3w0</td>\n",
       "      <td>26.500589</td>\n",
       "      <td>24.420678</td>\n",
       "      <td>0.0</td>\n",
       "    </tr>\n",
       "    <tr>\n",
       "      <th>4</th>\n",
       "      <td>2020-05-15 01:00:00</td>\n",
       "      <td>4136001</td>\n",
       "      <td>iq8k7ZNt4Mwm3w0</td>\n",
       "      <td>26.596148</td>\n",
       "      <td>25.088210</td>\n",
       "      <td>0.0</td>\n",
       "    </tr>\n",
       "  </tbody>\n",
       "</table>\n",
       "</div>"
      ],
      "text/plain": [
       "             DATE_TIME  PLANT_ID       SOURCE_KEY  AMBIENT_TEMPERATURE  \\\n",
       "0  2020-05-15 00:00:00   4136001  iq8k7ZNt4Mwm3w0            27.004764   \n",
       "1  2020-05-15 00:15:00   4136001  iq8k7ZNt4Mwm3w0            26.880811   \n",
       "2  2020-05-15 00:30:00   4136001  iq8k7ZNt4Mwm3w0            26.682055   \n",
       "3  2020-05-15 00:45:00   4136001  iq8k7ZNt4Mwm3w0            26.500589   \n",
       "4  2020-05-15 01:00:00   4136001  iq8k7ZNt4Mwm3w0            26.596148   \n",
       "\n",
       "   MODULE_TEMPERATURE  IRRADIATION  \n",
       "0           25.060789          0.0  \n",
       "1           24.421869          0.0  \n",
       "2           24.427290          0.0  \n",
       "3           24.420678          0.0  \n",
       "4           25.088210          0.0  "
      ]
     },
     "execution_count": 25,
     "metadata": {},
     "output_type": "execute_result"
    }
   ],
   "source": [
    "P2_sensor.head()"
   ]
  },
  {
   "cell_type": "code",
   "execution_count": 26,
   "id": "97aab9be-6346-4898-bed2-35baa50a56d4",
   "metadata": {},
   "outputs": [],
   "source": [
    "P2_sensor['DATE_TIME'] = pd.to_datetime(P2_sensor['DATE_TIME'], format=\"%Y-%m-%d %H:%M:%S\")"
   ]
  },
  {
   "cell_type": "code",
   "execution_count": 27,
   "id": "9539ae0d-e4a6-4b2e-92b6-519ec35c8287",
   "metadata": {},
   "outputs": [
    {
     "name": "stdout",
     "output_type": "stream",
     "text": [
      "<class 'pandas.core.frame.DataFrame'>\n",
      "RangeIndex: 3259 entries, 0 to 3258\n",
      "Data columns (total 6 columns):\n",
      " #   Column               Non-Null Count  Dtype         \n",
      "---  ------               --------------  -----         \n",
      " 0   DATE_TIME            3259 non-null   datetime64[ns]\n",
      " 1   PLANT_ID             3259 non-null   int64         \n",
      " 2   SOURCE_KEY           3259 non-null   object        \n",
      " 3   AMBIENT_TEMPERATURE  3259 non-null   float64       \n",
      " 4   MODULE_TEMPERATURE   3259 non-null   float64       \n",
      " 5   IRRADIATION          3259 non-null   float64       \n",
      "dtypes: datetime64[ns](1), float64(3), int64(1), object(1)\n",
      "memory usage: 152.9+ KB\n"
     ]
    }
   ],
   "source": [
    "P2_sensor.info()"
   ]
  },
  {
   "cell_type": "code",
   "execution_count": 28,
   "id": "ce810ef7-c286-47ee-9dd5-07728a8ae26c",
   "metadata": {},
   "outputs": [
    {
     "data": {
      "text/html": [
       "<div>\n",
       "<style scoped>\n",
       "    .dataframe tbody tr th:only-of-type {\n",
       "        vertical-align: middle;\n",
       "    }\n",
       "\n",
       "    .dataframe tbody tr th {\n",
       "        vertical-align: top;\n",
       "    }\n",
       "\n",
       "    .dataframe thead th {\n",
       "        text-align: right;\n",
       "    }\n",
       "</style>\n",
       "<table border=\"1\" class=\"dataframe\">\n",
       "  <thead>\n",
       "    <tr style=\"text-align: right;\">\n",
       "      <th></th>\n",
       "      <th>DATE_TIME</th>\n",
       "      <th>PLANT_ID</th>\n",
       "      <th>SOURCE_KEY</th>\n",
       "      <th>AMBIENT_TEMPERATURE</th>\n",
       "      <th>MODULE_TEMPERATURE</th>\n",
       "      <th>IRRADIATION</th>\n",
       "    </tr>\n",
       "  </thead>\n",
       "  <tbody>\n",
       "    <tr>\n",
       "      <th>0</th>\n",
       "      <td>2020-05-15 00:00:00</td>\n",
       "      <td>4136001</td>\n",
       "      <td>iq8k7ZNt4Mwm3w0</td>\n",
       "      <td>27.004764</td>\n",
       "      <td>25.060789</td>\n",
       "      <td>0.0</td>\n",
       "    </tr>\n",
       "    <tr>\n",
       "      <th>1</th>\n",
       "      <td>2020-05-15 00:15:00</td>\n",
       "      <td>4136001</td>\n",
       "      <td>iq8k7ZNt4Mwm3w0</td>\n",
       "      <td>26.880811</td>\n",
       "      <td>24.421869</td>\n",
       "      <td>0.0</td>\n",
       "    </tr>\n",
       "    <tr>\n",
       "      <th>2</th>\n",
       "      <td>2020-05-15 00:30:00</td>\n",
       "      <td>4136001</td>\n",
       "      <td>iq8k7ZNt4Mwm3w0</td>\n",
       "      <td>26.682055</td>\n",
       "      <td>24.427290</td>\n",
       "      <td>0.0</td>\n",
       "    </tr>\n",
       "    <tr>\n",
       "      <th>3</th>\n",
       "      <td>2020-05-15 00:45:00</td>\n",
       "      <td>4136001</td>\n",
       "      <td>iq8k7ZNt4Mwm3w0</td>\n",
       "      <td>26.500589</td>\n",
       "      <td>24.420678</td>\n",
       "      <td>0.0</td>\n",
       "    </tr>\n",
       "    <tr>\n",
       "      <th>4</th>\n",
       "      <td>2020-05-15 01:00:00</td>\n",
       "      <td>4136001</td>\n",
       "      <td>iq8k7ZNt4Mwm3w0</td>\n",
       "      <td>26.596148</td>\n",
       "      <td>25.088210</td>\n",
       "      <td>0.0</td>\n",
       "    </tr>\n",
       "  </tbody>\n",
       "</table>\n",
       "</div>"
      ],
      "text/plain": [
       "            DATE_TIME  PLANT_ID       SOURCE_KEY  AMBIENT_TEMPERATURE  \\\n",
       "0 2020-05-15 00:00:00   4136001  iq8k7ZNt4Mwm3w0            27.004764   \n",
       "1 2020-05-15 00:15:00   4136001  iq8k7ZNt4Mwm3w0            26.880811   \n",
       "2 2020-05-15 00:30:00   4136001  iq8k7ZNt4Mwm3w0            26.682055   \n",
       "3 2020-05-15 00:45:00   4136001  iq8k7ZNt4Mwm3w0            26.500589   \n",
       "4 2020-05-15 01:00:00   4136001  iq8k7ZNt4Mwm3w0            26.596148   \n",
       "\n",
       "   MODULE_TEMPERATURE  IRRADIATION  \n",
       "0           25.060789          0.0  \n",
       "1           24.421869          0.0  \n",
       "2           24.427290          0.0  \n",
       "3           24.420678          0.0  \n",
       "4           25.088210          0.0  "
      ]
     },
     "execution_count": 28,
     "metadata": {},
     "output_type": "execute_result"
    }
   ],
   "source": [
    "P2_sensor.head()"
   ]
  },
  {
   "cell_type": "code",
   "execution_count": 29,
   "id": "fe451a16-148e-4030-9606-9da93f23a2aa",
   "metadata": {},
   "outputs": [
    {
     "data": {
      "text/plain": [
       "0"
      ]
     },
     "execution_count": 29,
     "metadata": {},
     "output_type": "execute_result"
    }
   ],
   "source": [
    "P2_sensor.duplicated().sum()"
   ]
  },
  {
   "cell_type": "markdown",
   "id": "21bedbdb-c83e-440e-a3e2-a2cff72f64e0",
   "metadata": {},
   "source": [
    "**Integración de los cuatro conjuntos de datos**"
   ]
  },
  {
   "cell_type": "code",
   "execution_count": 30,
   "id": "3437988d-97a1-40a8-855c-03eeecb0cbdf",
   "metadata": {},
   "outputs": [],
   "source": [
    "p1_merged = pd.merge(P1_generation, P1_sensor, on=[\"DATE_TIME\", \"PLANT_ID\"], how=\"left\")"
   ]
  },
  {
   "cell_type": "code",
   "execution_count": 31,
   "id": "417aecd9-05c9-4321-bd89-81f326ed2257",
   "metadata": {},
   "outputs": [],
   "source": [
    "p2_merged = pd.merge(P2_generation, P2_sensor, on=[\"DATE_TIME\", \"PLANT_ID\"], how=\"left\")"
   ]
  },
  {
   "cell_type": "code",
   "execution_count": 32,
   "id": "52384366-163a-4340-be5e-136cacaebbee",
   "metadata": {},
   "outputs": [],
   "source": [
    "solar_data = pd.concat([p1_merged, p2_merged], ignore_index=True)"
   ]
  },
  {
   "cell_type": "code",
   "execution_count": 33,
   "id": "9a9a084b-8f54-49c9-ac5d-4c8ed0497d57",
   "metadata": {},
   "outputs": [
    {
     "data": {
      "text/html": [
       "<div>\n",
       "<style scoped>\n",
       "    .dataframe tbody tr th:only-of-type {\n",
       "        vertical-align: middle;\n",
       "    }\n",
       "\n",
       "    .dataframe tbody tr th {\n",
       "        vertical-align: top;\n",
       "    }\n",
       "\n",
       "    .dataframe thead th {\n",
       "        text-align: right;\n",
       "    }\n",
       "</style>\n",
       "<table border=\"1\" class=\"dataframe\">\n",
       "  <thead>\n",
       "    <tr style=\"text-align: right;\">\n",
       "      <th></th>\n",
       "      <th>DATE_TIME</th>\n",
       "      <th>PLANT_ID</th>\n",
       "      <th>SOURCE_KEY_x</th>\n",
       "      <th>DC_POWER</th>\n",
       "      <th>AC_POWER</th>\n",
       "      <th>DAILY_YIELD</th>\n",
       "      <th>TOTAL_YIELD</th>\n",
       "      <th>SOURCE_KEY_y</th>\n",
       "      <th>AMBIENT_TEMPERATURE</th>\n",
       "      <th>MODULE_TEMPERATURE</th>\n",
       "      <th>IRRADIATION</th>\n",
       "    </tr>\n",
       "  </thead>\n",
       "  <tbody>\n",
       "    <tr>\n",
       "      <th>0</th>\n",
       "      <td>2020-05-15 00:00:00</td>\n",
       "      <td>4135001</td>\n",
       "      <td>1BY6WEcLGh8j5v7</td>\n",
       "      <td>0.0</td>\n",
       "      <td>0.0</td>\n",
       "      <td>0.0</td>\n",
       "      <td>6259559.0</td>\n",
       "      <td>HmiyD2TTLFNqkNe</td>\n",
       "      <td>25.184316</td>\n",
       "      <td>22.857507</td>\n",
       "      <td>0.0</td>\n",
       "    </tr>\n",
       "    <tr>\n",
       "      <th>1</th>\n",
       "      <td>2020-05-15 00:00:00</td>\n",
       "      <td>4135001</td>\n",
       "      <td>1IF53ai7Xc0U56Y</td>\n",
       "      <td>0.0</td>\n",
       "      <td>0.0</td>\n",
       "      <td>0.0</td>\n",
       "      <td>6183645.0</td>\n",
       "      <td>HmiyD2TTLFNqkNe</td>\n",
       "      <td>25.184316</td>\n",
       "      <td>22.857507</td>\n",
       "      <td>0.0</td>\n",
       "    </tr>\n",
       "    <tr>\n",
       "      <th>2</th>\n",
       "      <td>2020-05-15 00:00:00</td>\n",
       "      <td>4135001</td>\n",
       "      <td>3PZuoBAID5Wc2HD</td>\n",
       "      <td>0.0</td>\n",
       "      <td>0.0</td>\n",
       "      <td>0.0</td>\n",
       "      <td>6987759.0</td>\n",
       "      <td>HmiyD2TTLFNqkNe</td>\n",
       "      <td>25.184316</td>\n",
       "      <td>22.857507</td>\n",
       "      <td>0.0</td>\n",
       "    </tr>\n",
       "    <tr>\n",
       "      <th>3</th>\n",
       "      <td>2020-05-15 00:00:00</td>\n",
       "      <td>4135001</td>\n",
       "      <td>7JYdWkrLSPkdwr4</td>\n",
       "      <td>0.0</td>\n",
       "      <td>0.0</td>\n",
       "      <td>0.0</td>\n",
       "      <td>7602960.0</td>\n",
       "      <td>HmiyD2TTLFNqkNe</td>\n",
       "      <td>25.184316</td>\n",
       "      <td>22.857507</td>\n",
       "      <td>0.0</td>\n",
       "    </tr>\n",
       "    <tr>\n",
       "      <th>4</th>\n",
       "      <td>2020-05-15 00:00:00</td>\n",
       "      <td>4135001</td>\n",
       "      <td>McdE0feGgRqW7Ca</td>\n",
       "      <td>0.0</td>\n",
       "      <td>0.0</td>\n",
       "      <td>0.0</td>\n",
       "      <td>7158964.0</td>\n",
       "      <td>HmiyD2TTLFNqkNe</td>\n",
       "      <td>25.184316</td>\n",
       "      <td>22.857507</td>\n",
       "      <td>0.0</td>\n",
       "    </tr>\n",
       "    <tr>\n",
       "      <th>...</th>\n",
       "      <td>...</td>\n",
       "      <td>...</td>\n",
       "      <td>...</td>\n",
       "      <td>...</td>\n",
       "      <td>...</td>\n",
       "      <td>...</td>\n",
       "      <td>...</td>\n",
       "      <td>...</td>\n",
       "      <td>...</td>\n",
       "      <td>...</td>\n",
       "      <td>...</td>\n",
       "    </tr>\n",
       "    <tr>\n",
       "      <th>136471</th>\n",
       "      <td>2020-06-17 23:45:00</td>\n",
       "      <td>4136001</td>\n",
       "      <td>q49J1IKaHRwDQnt</td>\n",
       "      <td>0.0</td>\n",
       "      <td>0.0</td>\n",
       "      <td>4157.0</td>\n",
       "      <td>520758.0</td>\n",
       "      <td>iq8k7ZNt4Mwm3w0</td>\n",
       "      <td>23.202871</td>\n",
       "      <td>22.535908</td>\n",
       "      <td>0.0</td>\n",
       "    </tr>\n",
       "    <tr>\n",
       "      <th>136472</th>\n",
       "      <td>2020-06-17 23:45:00</td>\n",
       "      <td>4136001</td>\n",
       "      <td>rrq4fwE8jgrTyWY</td>\n",
       "      <td>0.0</td>\n",
       "      <td>0.0</td>\n",
       "      <td>3931.0</td>\n",
       "      <td>121131356.0</td>\n",
       "      <td>iq8k7ZNt4Mwm3w0</td>\n",
       "      <td>23.202871</td>\n",
       "      <td>22.535908</td>\n",
       "      <td>0.0</td>\n",
       "    </tr>\n",
       "    <tr>\n",
       "      <th>136473</th>\n",
       "      <td>2020-06-17 23:45:00</td>\n",
       "      <td>4136001</td>\n",
       "      <td>vOuJvMaM2sgwLmb</td>\n",
       "      <td>0.0</td>\n",
       "      <td>0.0</td>\n",
       "      <td>4322.0</td>\n",
       "      <td>2427691.0</td>\n",
       "      <td>iq8k7ZNt4Mwm3w0</td>\n",
       "      <td>23.202871</td>\n",
       "      <td>22.535908</td>\n",
       "      <td>0.0</td>\n",
       "    </tr>\n",
       "    <tr>\n",
       "      <th>136474</th>\n",
       "      <td>2020-06-17 23:45:00</td>\n",
       "      <td>4136001</td>\n",
       "      <td>xMbIugepa2P7lBB</td>\n",
       "      <td>0.0</td>\n",
       "      <td>0.0</td>\n",
       "      <td>4218.0</td>\n",
       "      <td>106896394.0</td>\n",
       "      <td>iq8k7ZNt4Mwm3w0</td>\n",
       "      <td>23.202871</td>\n",
       "      <td>22.535908</td>\n",
       "      <td>0.0</td>\n",
       "    </tr>\n",
       "    <tr>\n",
       "      <th>136475</th>\n",
       "      <td>2020-06-17 23:45:00</td>\n",
       "      <td>4136001</td>\n",
       "      <td>xoJJ8DcxJEcupym</td>\n",
       "      <td>0.0</td>\n",
       "      <td>0.0</td>\n",
       "      <td>4316.0</td>\n",
       "      <td>209335741.0</td>\n",
       "      <td>iq8k7ZNt4Mwm3w0</td>\n",
       "      <td>23.202871</td>\n",
       "      <td>22.535908</td>\n",
       "      <td>0.0</td>\n",
       "    </tr>\n",
       "  </tbody>\n",
       "</table>\n",
       "<p>136476 rows × 11 columns</p>\n",
       "</div>"
      ],
      "text/plain": [
       "                 DATE_TIME  PLANT_ID     SOURCE_KEY_x  DC_POWER  AC_POWER  \\\n",
       "0      2020-05-15 00:00:00   4135001  1BY6WEcLGh8j5v7       0.0       0.0   \n",
       "1      2020-05-15 00:00:00   4135001  1IF53ai7Xc0U56Y       0.0       0.0   \n",
       "2      2020-05-15 00:00:00   4135001  3PZuoBAID5Wc2HD       0.0       0.0   \n",
       "3      2020-05-15 00:00:00   4135001  7JYdWkrLSPkdwr4       0.0       0.0   \n",
       "4      2020-05-15 00:00:00   4135001  McdE0feGgRqW7Ca       0.0       0.0   \n",
       "...                    ...       ...              ...       ...       ...   \n",
       "136471 2020-06-17 23:45:00   4136001  q49J1IKaHRwDQnt       0.0       0.0   \n",
       "136472 2020-06-17 23:45:00   4136001  rrq4fwE8jgrTyWY       0.0       0.0   \n",
       "136473 2020-06-17 23:45:00   4136001  vOuJvMaM2sgwLmb       0.0       0.0   \n",
       "136474 2020-06-17 23:45:00   4136001  xMbIugepa2P7lBB       0.0       0.0   \n",
       "136475 2020-06-17 23:45:00   4136001  xoJJ8DcxJEcupym       0.0       0.0   \n",
       "\n",
       "        DAILY_YIELD  TOTAL_YIELD     SOURCE_KEY_y  AMBIENT_TEMPERATURE  \\\n",
       "0               0.0    6259559.0  HmiyD2TTLFNqkNe            25.184316   \n",
       "1               0.0    6183645.0  HmiyD2TTLFNqkNe            25.184316   \n",
       "2               0.0    6987759.0  HmiyD2TTLFNqkNe            25.184316   \n",
       "3               0.0    7602960.0  HmiyD2TTLFNqkNe            25.184316   \n",
       "4               0.0    7158964.0  HmiyD2TTLFNqkNe            25.184316   \n",
       "...             ...          ...              ...                  ...   \n",
       "136471       4157.0     520758.0  iq8k7ZNt4Mwm3w0            23.202871   \n",
       "136472       3931.0  121131356.0  iq8k7ZNt4Mwm3w0            23.202871   \n",
       "136473       4322.0    2427691.0  iq8k7ZNt4Mwm3w0            23.202871   \n",
       "136474       4218.0  106896394.0  iq8k7ZNt4Mwm3w0            23.202871   \n",
       "136475       4316.0  209335741.0  iq8k7ZNt4Mwm3w0            23.202871   \n",
       "\n",
       "        MODULE_TEMPERATURE  IRRADIATION  \n",
       "0                22.857507          0.0  \n",
       "1                22.857507          0.0  \n",
       "2                22.857507          0.0  \n",
       "3                22.857507          0.0  \n",
       "4                22.857507          0.0  \n",
       "...                    ...          ...  \n",
       "136471           22.535908          0.0  \n",
       "136472           22.535908          0.0  \n",
       "136473           22.535908          0.0  \n",
       "136474           22.535908          0.0  \n",
       "136475           22.535908          0.0  \n",
       "\n",
       "[136476 rows x 11 columns]"
      ]
     },
     "execution_count": 33,
     "metadata": {},
     "output_type": "execute_result"
    }
   ],
   "source": [
    "solar_data"
   ]
  },
  {
   "cell_type": "code",
   "execution_count": 34,
   "id": "c38f36ec-baec-4ded-b0d8-7c4f94cbd00b",
   "metadata": {},
   "outputs": [
    {
     "name": "stdout",
     "output_type": "stream",
     "text": [
      "DATE_TIME              0\n",
      "PLANT_ID               0\n",
      "SOURCE_KEY_x           0\n",
      "DC_POWER               0\n",
      "AC_POWER               0\n",
      "DAILY_YIELD            0\n",
      "TOTAL_YIELD            0\n",
      "SOURCE_KEY_y           4\n",
      "AMBIENT_TEMPERATURE    4\n",
      "MODULE_TEMPERATURE     4\n",
      "IRRADIATION            4\n",
      "dtype: int64\n"
     ]
    }
   ],
   "source": [
    "print(solar_data.isnull().sum())\n"
   ]
  },
  {
   "cell_type": "code",
   "execution_count": 35,
   "id": "90b36b78-fba9-4164-a0f2-b56a34ca5f8b",
   "metadata": {},
   "outputs": [],
   "source": [
    "solar_data = solar_data.ffill()"
   ]
  },
  {
   "cell_type": "markdown",
   "id": "3784d089-59e0-49b4-9df6-3a215095e9a0",
   "metadata": {},
   "source": [
    "Análisis descriptivo de las variables"
   ]
  },
  {
   "cell_type": "code",
   "execution_count": 36,
   "id": "6703e0fa-1efe-4bcb-b86d-8a5a712a57fb",
   "metadata": {},
   "outputs": [
    {
     "data": {
      "text/html": [
       "<div>\n",
       "<style scoped>\n",
       "    .dataframe tbody tr th:only-of-type {\n",
       "        vertical-align: middle;\n",
       "    }\n",
       "\n",
       "    .dataframe tbody tr th {\n",
       "        vertical-align: top;\n",
       "    }\n",
       "\n",
       "    .dataframe thead th {\n",
       "        text-align: right;\n",
       "    }\n",
       "</style>\n",
       "<table border=\"1\" class=\"dataframe\">\n",
       "  <thead>\n",
       "    <tr style=\"text-align: right;\">\n",
       "      <th></th>\n",
       "      <th>DATE_TIME</th>\n",
       "      <th>PLANT_ID</th>\n",
       "      <th>DC_POWER</th>\n",
       "      <th>AC_POWER</th>\n",
       "      <th>DAILY_YIELD</th>\n",
       "      <th>TOTAL_YIELD</th>\n",
       "      <th>AMBIENT_TEMPERATURE</th>\n",
       "      <th>MODULE_TEMPERATURE</th>\n",
       "      <th>IRRADIATION</th>\n",
       "    </tr>\n",
       "  </thead>\n",
       "  <tbody>\n",
       "    <tr>\n",
       "      <th>count</th>\n",
       "      <td>136476</td>\n",
       "      <td>1.364760e+05</td>\n",
       "      <td>136476.000000</td>\n",
       "      <td>136476.000000</td>\n",
       "      <td>136476.000000</td>\n",
       "      <td>1.364760e+05</td>\n",
       "      <td>136476.000000</td>\n",
       "      <td>136476.000000</td>\n",
       "      <td>136476.000000</td>\n",
       "    </tr>\n",
       "    <tr>\n",
       "      <th>mean</th>\n",
       "      <td>2020-06-01 09:23:03.157478144</td>\n",
       "      <td>4.135497e+06</td>\n",
       "      <td>1708.541497</td>\n",
       "      <td>274.803511</td>\n",
       "      <td>3295.433783</td>\n",
       "      <td>3.303821e+08</td>\n",
       "      <td>26.763098</td>\n",
       "      <td>31.921176</td>\n",
       "      <td>0.230778</td>\n",
       "    </tr>\n",
       "    <tr>\n",
       "      <th>min</th>\n",
       "      <td>2020-05-15 00:00:00</td>\n",
       "      <td>4.135001e+06</td>\n",
       "      <td>0.000000</td>\n",
       "      <td>0.000000</td>\n",
       "      <td>0.000000</td>\n",
       "      <td>0.000000e+00</td>\n",
       "      <td>20.398505</td>\n",
       "      <td>18.140415</td>\n",
       "      <td>0.000000</td>\n",
       "    </tr>\n",
       "    <tr>\n",
       "      <th>25%</th>\n",
       "      <td>2020-05-23 23:00:00</td>\n",
       "      <td>4.135001e+06</td>\n",
       "      <td>0.000000</td>\n",
       "      <td>0.000000</td>\n",
       "      <td>28.321429</td>\n",
       "      <td>6.520020e+06</td>\n",
       "      <td>23.637604</td>\n",
       "      <td>22.411698</td>\n",
       "      <td>0.000000</td>\n",
       "    </tr>\n",
       "    <tr>\n",
       "      <th>50%</th>\n",
       "      <td>2020-06-01 18:45:00</td>\n",
       "      <td>4.135001e+06</td>\n",
       "      <td>6.050000</td>\n",
       "      <td>3.506905</td>\n",
       "      <td>2834.803572</td>\n",
       "      <td>7.269333e+06</td>\n",
       "      <td>25.908122</td>\n",
       "      <td>26.413755</td>\n",
       "      <td>0.026213</td>\n",
       "    </tr>\n",
       "    <tr>\n",
       "      <th>75%</th>\n",
       "      <td>2020-06-09 21:45:00</td>\n",
       "      <td>4.136001e+06</td>\n",
       "      <td>1155.788333</td>\n",
       "      <td>532.673333</td>\n",
       "      <td>5992.000000</td>\n",
       "      <td>2.826096e+08</td>\n",
       "      <td>29.266583</td>\n",
       "      <td>40.778583</td>\n",
       "      <td>0.442961</td>\n",
       "    </tr>\n",
       "    <tr>\n",
       "      <th>max</th>\n",
       "      <td>2020-06-17 23:45:00</td>\n",
       "      <td>4.136001e+06</td>\n",
       "      <td>14471.125000</td>\n",
       "      <td>1410.950000</td>\n",
       "      <td>9873.000000</td>\n",
       "      <td>2.247916e+09</td>\n",
       "      <td>39.181638</td>\n",
       "      <td>66.635953</td>\n",
       "      <td>1.221652</td>\n",
       "    </tr>\n",
       "    <tr>\n",
       "      <th>std</th>\n",
       "      <td>NaN</td>\n",
       "      <td>4.999862e+02</td>\n",
       "      <td>3222.181273</td>\n",
       "      <td>380.182569</td>\n",
       "      <td>3035.294425</td>\n",
       "      <td>6.085705e+08</td>\n",
       "      <td>3.897288</td>\n",
       "      <td>11.803769</td>\n",
       "      <td>0.305655</td>\n",
       "    </tr>\n",
       "  </tbody>\n",
       "</table>\n",
       "</div>"
      ],
      "text/plain": [
       "                           DATE_TIME      PLANT_ID       DC_POWER  \\\n",
       "count                         136476  1.364760e+05  136476.000000   \n",
       "mean   2020-06-01 09:23:03.157478144  4.135497e+06    1708.541497   \n",
       "min              2020-05-15 00:00:00  4.135001e+06       0.000000   \n",
       "25%              2020-05-23 23:00:00  4.135001e+06       0.000000   \n",
       "50%              2020-06-01 18:45:00  4.135001e+06       6.050000   \n",
       "75%              2020-06-09 21:45:00  4.136001e+06    1155.788333   \n",
       "max              2020-06-17 23:45:00  4.136001e+06   14471.125000   \n",
       "std                              NaN  4.999862e+02    3222.181273   \n",
       "\n",
       "            AC_POWER    DAILY_YIELD   TOTAL_YIELD  AMBIENT_TEMPERATURE  \\\n",
       "count  136476.000000  136476.000000  1.364760e+05        136476.000000   \n",
       "mean      274.803511    3295.433783  3.303821e+08            26.763098   \n",
       "min         0.000000       0.000000  0.000000e+00            20.398505   \n",
       "25%         0.000000      28.321429  6.520020e+06            23.637604   \n",
       "50%         3.506905    2834.803572  7.269333e+06            25.908122   \n",
       "75%       532.673333    5992.000000  2.826096e+08            29.266583   \n",
       "max      1410.950000    9873.000000  2.247916e+09            39.181638   \n",
       "std       380.182569    3035.294425  6.085705e+08             3.897288   \n",
       "\n",
       "       MODULE_TEMPERATURE    IRRADIATION  \n",
       "count       136476.000000  136476.000000  \n",
       "mean            31.921176       0.230778  \n",
       "min             18.140415       0.000000  \n",
       "25%             22.411698       0.000000  \n",
       "50%             26.413755       0.026213  \n",
       "75%             40.778583       0.442961  \n",
       "max             66.635953       1.221652  \n",
       "std             11.803769       0.305655  "
      ]
     },
     "execution_count": 36,
     "metadata": {},
     "output_type": "execute_result"
    }
   ],
   "source": [
    "solar_data.describe()"
   ]
  },
  {
   "cell_type": "markdown",
   "id": "878a9085-4265-4c38-9cf7-2d145e7d8388",
   "metadata": {},
   "source": [
    "**Distribución de la generación de energía**"
   ]
  },
  {
   "cell_type": "code",
   "execution_count": 37,
   "id": "df5fcb9d-3aa7-4713-88d1-3ce364911fd0",
   "metadata": {},
   "outputs": [
    {
     "data": {
      "image/png": "[encoded data removed]",
      "text/plain": [
       "<Figure size 1000x500 with 1 Axes>"
      ]
     },
     "metadata": {},
     "output_type": "display_data"
    }
   ],
   "source": [
    "plt.figure(figsize=(10, 5))\n",
    "sns.histplot(solar_data[\"AC_POWER\"], bins=50, kde=True)\n",
    "plt.title(\"Distribución de la Generación de Energía (AC Power)\")\n",
    "plt.xlabel(\"AC Power (kW)\")\n",
    "plt.ylabel(\"Frecuencia\")\n",
    "plt.show()"
   ]
  },
  {
   "cell_type": "markdown",
   "id": "ed3d68cc-0330-4b10-b5eb-8edfc1acd357",
   "metadata": {},
   "source": [
    " La gráfica muestra una distribución de frecuencias de la generación de energía. Observamos que:\n",
    "\n",
    "Alta frecuencia en niveles bajos: Hay una alta frecuencia de generación de energía en el rango de 0 a 200 kW. Esto sugiere que la mayoría de las veces, la generación de energía se encuentra en niveles relativamente bajos.\n",
    "Disminución exponencial: La frecuencia disminuye rápidamente a medida que aumenta la potencia de CA. Esto indica que es mucho menos común observar niveles de generación de energía más altos.\n",
    "Cola larga: La gráfica muestra una cola larga hacia la derecha, lo que significa que, aunque es menos frecuente, hay casos de generación de energía significativamente más alta, incluso hasta 1400 kW.\n",
    "Interpretación: La gráfica sugiere que la generación de energía en el sistema representado es variable, pero tiende a concentrarse en niveles bajos de potencia. Los picos de alta potencia son eventos menos comunes. Esta distribución podría ser característica de un sistema que:\n",
    "\n",
    "Depende de fuentes intermitentes: Si la generación depende en gran medida de fuentes renovables como en este caso la solar , es probable que haya fluctuaciones en la generación y periodos de baja producción.\n",
    "Tiene una demanda variable: Si la demanda de energía varía mucho, la generación también tendrá que ajustarse, resultando en una distribución como la que se muestra."
   ]
  },
  {
   "cell_type": "markdown",
   "id": "cf37e1dd-0dc6-457e-9cf1-4be087eb9cb7",
   "metadata": {},
   "source": [
    "**Correlación entre variables**"
   ]
  },
  {
   "cell_type": "markdown",
   "id": "5678024c-4c3d-43b7-9170-b997b3efeb61",
   "metadata": {},
   "source": [
    "Una matriz de correlación es una tabla que muestra los coeficientes de correlación entre múltiples variables. Cada celda de la tabla muestra la correlación entre dos variables específicas. El coeficiente de correlación varía de -1 a 1:\n",
    "\n",
    "1: Correlación positiva perfecta. Cuando una variable aumenta, la otra también aumenta en la misma proporción.\n",
    "\n",
    "0: No hay correlación lineal. Las variables no están relacionadas linealmente.\n",
    "\n",
    "-1: Correlación negativa perfecta. Cuando una variable aumenta, la otra disminuye en la misma proporción."
   ]
  },
  {
   "cell_type": "code",
   "execution_count": 38,
   "id": "f6d8d284-496f-47d8-97ba-dede9b87d9ce",
   "metadata": {},
   "outputs": [
    {
     "data": {
      "image/png": "[encoded data removed]",
      "text/plain": [
       "<Figure size 1000x600 with 2 Axes>"
      ]
     },
     "metadata": {},
     "output_type": "display_data"
    }
   ],
   "source": [
    "plt.figure(figsize=(10, 6))\n",
    "numeric_data = solar_data.select_dtypes(include=[\"number\"])\n",
    "sns.heatmap(numeric_data.corr(), annot=True, cmap=\"coolwarm\", fmt=\".2f\")\n",
    "\n",
    "plt.title(\"Matriz de Correlación\")\n",
    "plt.show()"
   ]
  },
  {
   "cell_type": "markdown",
   "id": "a46e24ca-7146-438f-b222-a24d8dc2d852",
   "metadata": {},
   "source": [
    "Correlaciones más significativas:\n",
    "\n",
    "DC_POWER y AC_POWER (0.75): Existe una correlación positiva muy fuerte entre la potencia de CC (corriente continua) y la potencia de CA (corriente alterna). Esto es lógico, ya que la potencia de CC generada por los paneles solares se convierte en potencia de CA para su uso.\n",
    "\n",
    "AC_POWER e IRRADIATION (0.88): Hay una correlación positiva muy fuerte entre la potencia de CA y la irradiancia. Esto también es esperado, ya que la cantidad de energía solar que llega a los paneles (irradiancia) afecta directamente la cantidad de energía generada.\n",
    "\n",
    "MODULE_TEMPERATURE e IRRADIATION (0.95): La temperatura del módulo (panel solar) está altamente correlacionada con la irradiancia. Esto es lógico, ya que la radiación solar calienta los paneles.\n",
    "\n",
    "AMBIENT_TEMPERATURE y MODULE_TEMPERATURE (0.82): La temperatura ambiente también tiene una correlación positiva fuerte con la temperatura del módulo, aunque no tan fuerte como la irradiancia.\n",
    "\n",
    "DAILY_YIELD y TOTAL_YIELD (0.40): Existe una correlación positiva moderada entre el rendimiento diario y el rendimiento total. Esto sugiere que los días con mayor rendimiento diario tienden a contribuir a un mayor rendimiento total."
   ]
  },
  {
   "cell_type": "markdown",
   "id": "f4130a4a-a668-4f3b-8226-d734a720ca4e",
   "metadata": {},
   "source": [
    "# Análisis Exploratorio de Datos (EDA)"
   ]
  },
  {
   "cell_type": "markdown",
   "id": "7f770ded-a6c9-4aac-8566-4590912db6e6",
   "metadata": {},
   "source": [
    "**Visualización de tendencias y patrones en la generación de energía.**"
   ]
  },
  {
   "cell_type": "code",
   "execution_count": 39,
   "id": "45f7e6da-fab7-4c60-ad99-3fb5b57357f9",
   "metadata": {},
   "outputs": [],
   "source": [
    "daily_generation = solar_data.groupby(solar_data[\"DATE_TIME\"].dt.date)[\"DAILY_YIELD\"].sum()"
   ]
  },
  {
   "cell_type": "code",
   "execution_count": 40,
   "id": "196031c4-9b72-402a-a79a-d02be18ef7df",
   "metadata": {},
   "outputs": [
    {
     "data": {
      "image/png": "[encoded data removed]",
      "text/plain": [
       "<Figure size 1200x600 with 1 Axes>"
      ]
     },
     "metadata": {},
     "output_type": "display_data"
    }
   ],
   "source": [
    "plt.figure(figsize=(12, 6))\n",
    "plt.plot(daily_generation, marker=\"o\", linestyle=\"-\", color=\"blue\", label=\"Generación Diaria\")\n",
    "plt.xlabel(\"Fecha\")\n",
    "plt.ylabel(\"Energía Generada (kWh)\")\n",
    "plt.title(\"Tendencia de Generación de Energía Diaria\")\n",
    "plt.xticks(rotation=45)\n",
    "plt.legend()\n",
    "plt.grid()\n",
    "plt.show()"
   ]
  },
  {
   "cell_type": "markdown",
   "id": "524c1eab-7722-4780-b795-ffa5ad63fd2d",
   "metadata": {},
   "source": [
    "Se pueden observar varios puntos clave:\n",
    "\n",
    "Fluctuación: La generación de energía varía considerablemente a lo largo del período de tiempo mostrado. Hay picos y valles, lo que indica que la generación no es constante.\n",
    "\n",
    "Picos: Se observan picos de generación en varios puntos, lo que sugiere días de alta producción de energía.\n",
    "\n",
    "Valles: También se observan valles, lo que indica días de baja producción de energía.\n",
    "T\n",
    "endencia general: No se observa una tendencia clara hacia arriba o hacia abajo en la generación de energía durante este período.\n",
    "\n",
    "La gráfica sugiere que la generación de energía en el sistema representado es variable y depende de factores que cambian con el tiempo. Esta variabilidad podría ser causada por:\n",
    "\n",
    "Condiciones climáticas: Si la generación depende de fuentes renovables como la solar, los cambios en la radiación solar o la nubosidad podrían afectar la cantidad de energía generada.\n",
    "\n",
    "Demanda: Si la generación se ajusta a la demanda, los cambios en el consumo de energía podrían reflejarse en la generación.\n",
    "\n",
    "Mantenimiento o fallos: Los picos y valles podrían ser causados por actividades de mantenimiento programado o fallos inesperados en el sistema."
   ]
  },
  {
   "cell_type": "markdown",
   "id": "02882c7a-ea04-4a5d-9238-10e77b7cf670",
   "metadata": {},
   "source": [
    "**Análisis de correlación entre variables ambientales y rendimiento de los paneles solares.**"
   ]
  },
  {
   "cell_type": "code",
   "execution_count": 41,
   "id": "abf1040e-0e14-47f1-a925-40788e1d5b6b",
   "metadata": {},
   "outputs": [],
   "source": [
    "numeric_data = solar_data[[\"DAILY_YIELD\", \"AMBIENT_TEMPERATURE\", \"MODULE_TEMPERATURE\", \"IRRADIATION\"]]"
   ]
  },
  {
   "cell_type": "code",
   "execution_count": 42,
   "id": "fc5bed1b-1c5b-4d1c-9672-c3e153a66fda",
   "metadata": {},
   "outputs": [],
   "source": [
    "corr_matrix = numeric_data.corr()"
   ]
  },
  {
   "cell_type": "code",
   "execution_count": 43,
   "id": "4b1eecb9-7519-45bc-a31f-f59cc4172726",
   "metadata": {},
   "outputs": [
    {
     "data": {
      "image/png": "[encoded data removed]",
      "text/plain": [
       "<Figure size 800x600 with 2 Axes>"
      ]
     },
     "metadata": {},
     "output_type": "display_data"
    }
   ],
   "source": [
    "plt.figure(figsize=(8, 6))\n",
    "sns.heatmap(corr_matrix, annot=True, cmap=\"coolwarm\", fmt=\".2f\", linewidths=0.5)\n",
    "plt.title(\"Matriz de Correlación entre Variables Ambientales y Energía Generada\")\n",
    "plt.show()"
   ]
  },
  {
   "cell_type": "markdown",
   "id": "7242f9fd-99be-46b5-9ea0-b2a4a6213e6c",
   "metadata": {},
   "source": [
    "Análisis de la matriz:\n",
    "\n",
    "DAILY_YIELD vs. AMBIENT_TEMPERATURE (0.37): Correlación positiva moderada. Los días más cálidos tienden a tener un mayor rendimiento energético, pero la relación no es muy fuerte.\n",
    "\n",
    "DAILY_YIELD vs. MODULE_TEMPERATURE (0.13): Correlación positiva débil. La temperatura del módulo tiene una influencia leve en el rendimiento diario, pero otros factores son más importantes.\n",
    "\n",
    "DAILY_YIELD vs. IRRADIATION (-0.01): Correlación negativa muy débil o nula. No hay una relación lineal clara entre la irradiación y el rendimiento diario en este conjunto de datos.\n",
    "\n",
    "AMBIENT_TEMPERATURE vs. MODULE_TEMPERATURE (0.82): Correlación positiva fuerte. La temperatura ambiente y la temperatura del módulo están muy relacionadas, lo cual es lógico ya que la radiación solar calienta los paneles.\n",
    "\n",
    "AMBIENT_TEMPERATURE vs. IRRADIATION (0.66): Correlación positiva fuerte. Los días con mayor irradiación solar también tienden a ser más cálidos.\n",
    "\n",
    "MODULE_TEMPERATURE vs. IRRADIATION (0.95): Correlación positiva muy fuerte. La irradiación solar es el principal factor que afecta la temperatura del módulo.\n",
    "\n",
    "La irradiación solar es el factor más importante que afecta la temperatura del módulo. Esto es esperable, ya que la radiación del sol calienta directamente los paneles.\n",
    "\n",
    "La temperatura ambiente también influye en la temperatura del módulo, aunque en menor medida. Esto sugiere que otros factores como el viento o la humedad también pueden jugar un papel.\n",
    "\n",
    "El rendimiento diario tiene una relación moderada con la temperatura ambiente y una relación débil con la temperatura del módulo. Esto indica que la generación de energía depende en parte de la temperatura, pero otros factores como la irradiación y la eficiencia del sistema son más importantes.\n",
    "\n",
    "La falta de correlación entre el rendimiento diario y la irradiación es sorprendente y podría indicar un problema  con el sistema. En teoría, la irradiación debería ser un factor clave en la generación de energía solar.\n",
    "\n",
    "Posibles explicaciones para la baja correlación entre DAILY_YIELD e IRRADIATION:\n",
    "Factores no considerados: La matriz no incluye otras variables importantes como la nubosidad, la eficiencia de los paneles o el ángulo de inclinación.\n",
    "\n",
    "Particularidades del sistema: El sistema podría tener características específicas que hacen que la irradiación no sea un factor determinante en el rendimiento diario."
   ]
  },
  {
   "cell_type": "markdown",
   "id": "1a87ad25-452e-4dfc-be9c-d1eca5ff9f9f",
   "metadata": {},
   "source": [
    "Identificación de posibles anomalías en la generación de energía."
   ]
  },
  {
   "cell_type": "code",
   "execution_count": 44,
   "id": "2c7d8d54-d3e5-4a70-86e3-79a6c23be8ab",
   "metadata": {},
   "outputs": [
    {
     "data": {
      "image/png": "[encoded data removed]",
      "text/plain": [
       "<Figure size 800x600 with 1 Axes>"
      ]
     },
     "metadata": {},
     "output_type": "display_data"
    }
   ],
   "source": [
    "plt.figure(figsize=(8, 6))\n",
    "sns.boxplot(x=solar_data[\"DAILY_YIELD\"], color=\"orange\")\n",
    "plt.title(\"Detección de Valores Atípicos en la Generación de Energía\")\n",
    "plt.xlabel(\"Energía Generada (kWh)\")\n",
    "plt.show()"
   ]
  },
  {
   "cell_type": "markdown",
   "id": "5012e489-1b2d-48f6-ad38-8674fc138d9c",
   "metadata": {},
   "source": [
    "Análisis del gráfico:\n",
    "\n",
    "Rango intercuartílico: La caja muestra que la mayoría de los datos se concentran entre aproximadamente 2000 kWh y 6000 kWh.\n",
    "\n",
    "Mediana: La línea dentro de la caja indica que la mediana de la generación de energía está alrededor de 4000 kWh.\n",
    "\n",
    "Valores atípicos: Se observan varios puntos fuera de los bigotes, tanto en el extremo inferior como en el superior. Estos puntos representan valores atípicos, es decir, días en los que la generación de energía fue significativamente más baja o más alta de lo habitual.\n",
    "\n",
    "El gráfico sugiere que la generación de energía en el sistema representado es variable y presenta valores atípicos. Estos valores atípicos podrían ser causados por:\n",
    "\n",
    "Condiciones climáticas extremas: Días con condiciones climáticas inusuales, como tormentas o períodos de baja radiación solar, podrían resultar en una generación de energía atípica.\n",
    "\n",
    "Fallos en el sistema: Problemas técnicos o fallos en los equipos podrían afectar la generación de energía y dar lugar a valores atípicos.\n",
    "\n",
    "Mantenimiento: Actividades de mantenimiento programado podrían resultar en una disminución temporal de la generación de energía."
   ]
  },
  {
   "cell_type": "markdown",
   "id": "b387d582-d59a-43d7-ae3c-70761e43c3a3",
   "metadata": {},
   "source": [
    "# Conclusiones y Recomendaciones"
   ]
  },
  {
   "cell_type": "markdown",
   "id": "8323ae59-d7c2-43e3-8953-18fa89722def",
   "metadata": {},
   "source": [
    "\n",
    "### **Hallazgos Clave**  \n",
    "\n",
    "1. **Distribución de la Generación de Energía:**  \n",
    "   - La mayoría de las veces, la generación de energía se encuentra en niveles bajos (0-200 kW).  \n",
    "   - La frecuencia de generación disminuye exponencialmente a medida que aumenta la potencia de CA.  \n",
    "   - Existen casos poco frecuentes de generación significativamente alta (hasta 1400 kW).  \n",
    "   - Esto sugiere que la generación de energía es variable y depende de factores intermitentes como la irradiación solar.  \n",
    "\n",
    "2. **Correlaciones entre Variables:**  \n",
    "   - **Alta correlación positiva** entre la irradiancia y la potencia de CA (0.88), lo que confirma que la cantidad de radiación solar influye directamente en la energía generada.  \n",
    "   - **Relación fuerte** entre la temperatura del módulo y la irradiación (0.95), lo que indica que los paneles solares se calientan con mayor radiación solar.  \n",
    "   - **Moderada correlación positiva** entre temperatura ambiente y temperatura del módulo (0.82), reflejando el impacto del clima en los paneles.  \n",
    "   - **Sorprendentemente baja correlación** entre rendimiento diario (DAILY_YIELD) e irradiación (-0.01), lo que sugiere posibles problemas en la medición, eficiencia del sistema o presencia de otros factores no considerados.  \n",
    "\n",
    "3. **Tendencias y Patrones en la Generación de Energía:**  \n",
    "   - La producción de energía presenta fluctuaciones significativas, con picos y valles.  \n",
    "   - No se observa una tendencia clara de crecimiento o disminución de la generación.  \n",
    "   - Factores como condiciones climáticas, demanda variable y mantenimiento podrían explicar estas variaciones.  \n",
    "\n",
    "4. **Identificación de Anomalías:**  \n",
    "   - Se detectaron valores atípicos en la generación de energía, con días de producción significativamente alta o baja.  \n",
    "   - Posibles causas incluyen condiciones climáticas extremas, fallos en el sistema o mantenimiento programado.  \n",
    "\n",
    "---\n",
    "\n",
    "### **Recomendaciones para Mejorar la Predicción de Generación de Energía**  \n",
    "\n",
    "1. **Optimizar Modelos de Predicción:**  \n",
    "   - Incluir más variables como nubosidad, velocidad del viento y humedad para mejorar la precisión de los modelos.  \n",
    "   - Utilizar técnicas avanzadas de machine learning para ajustar predicciones considerando la variabilidad observada.  \n",
    "\n",
    "2. **Mejorar la Calidad de los Datos:**  \n",
    "   - Verificar la calibración de sensores de irradiación para entender mejor la baja correlación con el rendimiento diario.  \n",
    "   - Implementar mecanismos de detección y corrección de anomalías en tiempo real para mejorar la confiabilidad del sistema.  \n",
    "\n",
    "3. **Análisis de Eficiencia del Sistema:**  \n",
    "   - Investigar si hay pérdidas de eficiencia en los paneles solares que puedan explicar la baja correlación entre irradiación y rendimiento diario.  \n",
    "   - Evaluar el impacto del ángulo de inclinación y la limpieza de los paneles en la generación de energía.  \n",
    "\n",
    "4. **Gestión de Variabilidad y Anomalías:**  \n",
    "   - Implementar estrategias de almacenamiento de energía para mitigar la variabilidad en la generación.  \n",
    "   - Diseñar alertas tempranas para identificar posibles fallos o disminuciones inesperadas en la producción.  \n",
    "\n"
   ]
  }
 ],
 "metadata": {
  "kernelspec": {
   "display_name": "Python 3 (ipykernel)",
   "language": "python",
   "name": "python3"
  },
  "language_info": {
   "codemirror_mode": {
    "name": "ipython",
    "version": 3
   },
   "file_extension": ".py",
   "mimetype": "text/x-python",
   "name": "python",
   "nbconvert_exporter": "python",
   "pygments_lexer": "ipython3",
   "version": "3.12.4"
  }
 },
 "nbformat": 4,
 "nbformat_minor": 5
}
